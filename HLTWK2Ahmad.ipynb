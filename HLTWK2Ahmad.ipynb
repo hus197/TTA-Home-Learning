{
 "cells": [
  {
   "cell_type": "code",
   "execution_count": null,
   "metadata": {},
   "outputs": [],
   "source": [
    "import random\n",
    "\n",
    "random_number = random.randint(1,10)\n",
    "user_name = input('What\\'s your username?')\n",
    "guess_number = int(input('Please Guess a number between 1 to 10'))\n",
    "\n",
    "if random_number == guess_number:\n",
    "    print(f'{user_name} You got it correct!, well done! You picked number: {guess_number}')\n",
    "else:\n",
    "    print(f'{user_name} You got it wrong, it was not: {guess_number} it was: {random_number}')    "
   ]
  },
  {
   "cell_type": "code",
   "execution_count": null,
   "metadata": {},
   "outputs": [],
   "source": [
    "user_favorite_number = input(''''What's your favourite number between 1 to 100 ?''')\n",
    "\n",
    "if int(user_favorite_number) in range(1,35):\n",
    "    print('''What does a cloud wear under his raincoat?\n",
    "Thunderwear.''')\n",
    "elif int(user_favorite_number) in range(35,70):\n",
    "    print('''How does a scientist freshen her breath?\n",
    "With experi-mints.''')    \n",
    "elif int(user_favorite_number) in range(75,100):\n",
    "    print('''What’s worse than finding a worm in your apple?\n",
    "Finding half a worm.''')\n",
    "else:\n",
    "    print('Please choose number between 1 to 100')   "
   ]
  },
  {
   "cell_type": "code",
   "execution_count": null,
   "metadata": {},
   "outputs": [],
   "source": [
    "fav_starter = input('What\\'s your favourite starter?')\n",
    "fav_main = input('What\\'s your favourite main?')\n",
    "fav_desert = input('What\\'s your favourite desert?')\n",
    "fav_drink = input('What\\'s your favourite drink?')\n",
    "print(f\"Your favourite meal is, {fav_starter},as a starter ,{fav_main}, as a main and {fav_desert}, as your dessert. With a drink of,{fav_drink}.\")"
   ]
  },
  {
   "cell_type": "code",
   "execution_count": null,
   "metadata": {},
   "outputs": [],
   "source": [
    "motorbike_cost = 2000\n",
    "year = 2021\n",
    "while motorbike_cost > 1000:\n",
    "    print(f'The bike is worth in {year}: ', motorbike_cost)\n",
    "    motorbike_cost = motorbike_cost * 0.9\n",
    "    year += 1"
   ]
  },
  {
   "cell_type": "code",
   "execution_count": null,
   "metadata": {},
   "outputs": [],
   "source": [
    "first_number = int(input('Pick a number!'))\n",
    "second_number = int(input('Pick another Number!'))\n",
    "pick_operator = input('Please pick a operator to use')\n",
    "\n",
    "if pick_operator == '+':\n",
    "    print('Result: ', first_number + second_number)\n",
    "elif pick_operator == '-':\n",
    "    print('Result: ',first_number - second_number)\n",
    "elif pick_operator == '*':\n",
    "    print('Result: ',first_number * second_number)\n",
    "elif pick_operator == '**':\n",
    "    print('Result: ',first_number ** second_number)    \n",
    "elif pick_operator == '/':\n",
    "    print('Result: ',first_number / second_number)\n",
    "elif pick_operator == '//':\n",
    "    print('Result: ',first_number // second_number)    \n",
    "elif pick_operator == '%':\n",
    "    print('Result: ',first_number % second_number)\n",
    "else: \n",
    "    print(\"An appropriate operator was not selected!\") "
   ]
  }
 ],
 "metadata": {
  "interpreter": {
   "hash": "e67b4a5f66c469dee77d86490955cdb81c3da6a4803c562f9067f46f2d2481cc"
  },
  "kernelspec": {
   "display_name": "Python 3.10.0 64-bit",
   "language": "python",
   "name": "python3"
  },
  "language_info": {
   "codemirror_mode": {
    "name": "ipython",
    "version": 3
   },
   "file_extension": ".py",
   "mimetype": "text/x-python",
   "name": "python",
   "nbconvert_exporter": "python",
   "pygments_lexer": "ipython3",
   "version": "3.10.0"
  },
  "orig_nbformat": 4
 },
 "nbformat": 4,
 "nbformat_minor": 2
}

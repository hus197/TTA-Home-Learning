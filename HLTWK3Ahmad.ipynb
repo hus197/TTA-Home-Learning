{
 "cells": [
  {
   "cell_type": "code",
   "execution_count": 3,
   "metadata": {},
   "outputs": [],
   "source": [
    "import random\n"
   ]
  },
  {
   "cell_type": "code",
   "execution_count": 4,
   "metadata": {},
   "outputs": [
    {
     "ename": "IndentationError",
     "evalue": "unexpected indent (Temp/ipykernel_16324/2423940159.py, line 4)",
     "output_type": "error",
     "traceback": [
      "\u001b[1;36m  File \u001b[1;32m\"C:\\Users\\multi\\AppData\\Local\\Temp/ipykernel_16324/2423940159.py\"\u001b[1;36m, line \u001b[1;32m4\u001b[0m\n\u001b[1;33m    def dice () :\u001b[0m\n\u001b[1;37m    ^\u001b[0m\n\u001b[1;31mIndentationError\u001b[0m\u001b[1;31m:\u001b[0m unexpected indent\n"
     ]
    }
   ],
   "source": [
    "import random\n",
    "dicelist = [1,2,3,4,5,6]\n",
    " \n",
    " def dice () :\n",
    "\n",
    "     number1 = random.choice (dicelist)\n",
    "     number2 = random.choice (dicelist)\n",
    "\n",
    "     number = number1 + number2\n",
    "\n",
    "     print (number1)\n",
    "     print (number2)\n",
    "\n",
    "\n",
    "newnumber = dice ()\n",
    "print (\"The number returned from the function is: \",newnumber)\n",
    "\n",
    "newnumber2 = newnumber + newnumber\n",
    "print (newnumber)\n"
   ]
  },
  {
   "cell_type": "code",
   "execution_count": null,
   "metadata": {},
   "outputs": [
    {
     "ename": "SyntaxError",
     "evalue": "expected ':' (Temp/ipykernel_13880/1577951090.py, line 2)",
     "output_type": "error",
     "traceback": [
      "\u001b[1;36m  File \u001b[1;32m\"C:\\Users\\multi\\AppData\\Local\\Temp/ipykernel_13880/1577951090.py\"\u001b[1;36m, line \u001b[1;32m2\u001b[0m\n\u001b[1;33m    if (menuOption==1)\u001b[0m\n\u001b[1;37m                      ^\u001b[0m\n\u001b[1;31mSyntaxError\u001b[0m\u001b[1;31m:\u001b[0m expected ':'\n"
     ]
    }
   ],
   "source": [
    "menuOption = int (input(\"select an option 1,2 or3\"))\n",
    "if (menuOption==1)\n",
    "    print (\"These are all the Running Trainers\")\n",
    "elif (menuOption==2)\n",
    "    print (\"These are all the Classics\")\n",
    "elif(menuOption==3)\n",
    "    print (\"This are all the Boots and Shoes\")\n",
    "else : \n",
    "    print (\"You didn't choose the correct option\")"
   ]
  },
  {
   "cell_type": "code",
   "execution_count": 5,
   "metadata": {},
   "outputs": [
    {
     "ename": "SyntaxError",
     "evalue": "invalid syntax. Perhaps you forgot a comma? (Temp/ipykernel_16324/3922691013.py, line 3)",
     "output_type": "error",
     "traceback": [
      "\u001b[1;36m  File \u001b[1;32m\"C:\\Users\\multi\\AppData\\Local\\Temp/ipykernel_16324/3922691013.py\"\u001b[1;36m, line \u001b[1;32m3\u001b[0m\n\u001b[1;33m    if number 1 ==1:\u001b[0m\n\u001b[1;37m       ^\u001b[0m\n\u001b[1;31mSyntaxError\u001b[0m\u001b[1;31m:\u001b[0m invalid syntax. Perhaps you forgot a comma?\n"
     ]
    }
   ],
   "source": [
    "number1 = 1\n",
    "number2 = 2\n",
    "if number 1 ==1:\n",
    "    if number2 == 2:\n",
    "        print (\"both numbers match up\")\n",
    "        else: \n",
    "            print (\"print number matches but nit the second\")\n",
    "\n",
    "else:\n",
    "    if number 2==2:\n",
    "        print (\"only the second numbers match up\")\n",
    "    else:\n",
    "        print (\"none match\")"
   ]
  },
  {
   "cell_type": "code",
   "execution_count": 12,
   "metadata": {},
   "outputs": [
    {
     "ename": "SyntaxError",
     "evalue": "invalid syntax. Perhaps you forgot a comma? (Temp/ipykernel_16324/2114464423.py, line 13)",
     "output_type": "error",
     "traceback": [
      "\u001b[1;36m  File \u001b[1;32m\"C:\\Users\\multi\\AppData\\Local\\Temp/ipykernel_16324/2114464423.py\"\u001b[1;36m, line \u001b[1;32m13\u001b[0m\n\u001b[1;33m    return output                message = function_1 ()\u001b[0m\n\u001b[1;37m           ^\u001b[0m\n\u001b[1;31mSyntaxError\u001b[0m\u001b[1;31m:\u001b[0m invalid syntax. Perhaps you forgot a comma?\n"
     ]
    }
   ],
   "source": [
    "def procedure_1():\n",
    "    name = input (\"What is your name?\")\n",
    "    age = int (input(\"What is your age?\"))\n",
    "\n",
    "    print (\"Hello\", Ahmad+\"! You will be\", 29+1,\"For for your next birthday!\")\n",
    "\n",
    "def function_1 ():\n",
    "    name = input (\"What is your name?\")\n",
    "    age = int (input (\"What is your age?\"))\n",
    "\n",
    "    output = \"Hello\" + Ahmad + \"! You will be\" + str (age + 1) + \"For your next birthday!\" \n",
    "\n",
    "    return output                message = function_1 ()\n",
    "                                print (message)\n",
    "                                "
   ]
  }
 ],
 "metadata": {
  "interpreter": {
   "hash": "e67b4a5f66c469dee77d86490955cdb81c3da6a4803c562f9067f46f2d2481cc"
  },
  "kernelspec": {
   "display_name": "Python 3.10.0 64-bit",
   "language": "python",
   "name": "python3"
  },
  "language_info": {
   "codemirror_mode": {
    "name": "ipython",
    "version": 3
   },
   "file_extension": ".py",
   "mimetype": "text/x-python",
   "name": "python",
   "nbconvert_exporter": "python",
   "pygments_lexer": "ipython3",
   "version": "3.10.0"
  },
  "orig_nbformat": 4
 },
 "nbformat": 4,
 "nbformat_minor": 2
}
